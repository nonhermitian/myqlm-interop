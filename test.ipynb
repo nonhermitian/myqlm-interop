{
 "cells": [
  {
   "cell_type": "code",
   "execution_count": 1,
   "id": "952d62f9",
   "metadata": {},
   "outputs": [
    {
     "data": {
      "text/plain": [
       "<AccountProvider for IBMQ(hub='ibm-q', group='open', project='main')>"
      ]
     },
     "execution_count": 1,
     "metadata": {},
     "output_type": "execute_result"
    }
   ],
   "source": [
    "from qiskit import *\n",
    "IBMQ.load_account()"
   ]
  },
  {
   "cell_type": "code",
   "execution_count": 4,
   "id": "af531956",
   "metadata": {},
   "outputs": [],
   "source": [
    "provider = IBMQ.get_provider(group='deployed')"
   ]
  },
  {
   "cell_type": "code",
   "execution_count": 5,
   "id": "0b34bb08",
   "metadata": {},
   "outputs": [
    {
     "name": "stdout",
     "output_type": "stream",
     "text": [
      "      ┌───┐     ┌─┐   \n",
      "q1_0: ┤ H ├──■──┤M├───\n",
      "      └───┘┌─┴─┐└╥┘┌─┐\n",
      "q1_1: ─────┤ X ├─╫─┤M├\n",
      "           └───┘ ║ └╥┘\n",
      "c1: 2/═══════════╩══╩═\n",
      "                 0  1 \n"
     ]
    }
   ],
   "source": [
    "from qat.interop.qiskit import qlm_to_qiskit\n",
    "from qat.lang.AQASM import Program\n",
    "from qat.lang.AQASM.gates import *\n",
    "\n",
    "nbqubits = 2\n",
    "\n",
    "prog = Program()\n",
    "\n",
    "qreg = prog.qalloc(nbqubits)\n",
    "creg = prog.calloc(nbqubits)\n",
    "\n",
    "prog.apply(H, qreg[0])\n",
    "prog.apply(CNOT, qreg[0], qreg[1])\n",
    "\n",
    "prog.measure(qreg, creg)\n",
    "qlm_circuit = prog.to_circ()\n",
    "\n",
    "# Conversion\n",
    "qiskit_circuit = qlm_to_qiskit(qlm_circuit)\n",
    "print(qiskit_circuit)"
   ]
  },
  {
   "cell_type": "code",
   "execution_count": 6,
   "id": "22653d82",
   "metadata": {},
   "outputs": [
    {
     "name": "stdout",
     "output_type": "stream",
     "text": [
      "SamplerResult(quasi_dists=[{'11': 0.5009765625, '00': 0.4990234375}], metadata=[{'header_metadata': None, 'shots': 1024}])\n",
      "State: |11>\t probability: 0.5009765625\n",
      "State: |00>\t probability: 0.4990234375\n"
     ]
    }
   ],
   "source": [
    "\n",
    "\n",
    "from qat.interop.qiskit import BackendToQPU\n",
    "from qiskit import Aer\n",
    "from qat.lang.AQASM import Program\n",
    "from qat.lang.AQASM.gates import *\n",
    "\n",
    "nbqubits = 2\n",
    "\n",
    "prog = Program()\n",
    "\n",
    "qreg = prog.qalloc(nbqubits)\n",
    "creg = prog.calloc(nbqubits)\n",
    "\n",
    "prog.apply(H, qreg[0])\n",
    "prog.apply(CNOT, qreg[0], qreg[1])\n",
    "\n",
    "prog.measure(qreg, creg)\n",
    "qlm_circuit = prog.to_circ()\n",
    "\n",
    "qlm_job = qlm_circuit.to_job(nbshots=1024)\n",
    "\n",
    "# Runtime using ibmq_qasm_simulator\n",
    "backend = provider.backend.ibmq_qasm_simulator\n",
    "qpu = BackendToQPU(backend)\n",
    "\n",
    "\n",
    "result = qpu.submit(qlm_job)\n",
    "for entry in result.raw_data:\n",
    "    print(\"State: {}\\t probability: {}\".format(entry.state, entry.probability))"
   ]
  },
  {
   "cell_type": "code",
   "execution_count": 8,
   "id": "4c3caae7",
   "metadata": {},
   "outputs": [
    {
     "name": "stdout",
     "output_type": "stream",
     "text": [
      "ID: 626bf0c9171ee87d3a255f0b\t status : VALIDATING\n",
      "ID: 626bf0c9171ee87d3a255f0b\t status : RUNNING\n",
      "ID: 626bf0c9171ee87d3a255f0b\t status : RUNNING\n"
     ]
    },
    {
     "ename": "KeyError",
     "evalue": "0",
     "output_type": "error",
     "traceback": [
      "\u001b[0;31m---------------------------------------------------------------------------\u001b[0m",
      "\u001b[0;31mKeyError\u001b[0m                                  Traceback (most recent call last)",
      "Input \u001b[0;32mIn [8]\u001b[0m, in \u001b[0;36m<cell line: 32>\u001b[0;34m()\u001b[0m\n\u001b[1;32m     30\u001b[0m time\u001b[38;5;241m.\u001b[39msleep(\u001b[38;5;241m0.2\u001b[39m)\n\u001b[1;32m     31\u001b[0m \u001b[38;5;28mprint\u001b[39m(\u001b[38;5;124m\"\u001b[39m\u001b[38;5;124mID: \u001b[39m\u001b[38;5;132;01m{}\u001b[39;00m\u001b[38;5;130;01m\\t\u001b[39;00m\u001b[38;5;124m status : \u001b[39m\u001b[38;5;132;01m{}\u001b[39;00m\u001b[38;5;124m\"\u001b[39m\u001b[38;5;241m.\u001b[39mformat(async_job\u001b[38;5;241m.\u001b[39mjob_id(), async_job\u001b[38;5;241m.\u001b[39mstatus()))\n\u001b[0;32m---> 32\u001b[0m \u001b[38;5;28;01mwhile\u001b[39;00m \u001b[43masync_job\u001b[49m\u001b[38;5;241;43m.\u001b[39;49m\u001b[43mresult\u001b[49m\u001b[43m(\u001b[49m\u001b[43m)\u001b[49m \u001b[38;5;129;01mis\u001b[39;00m \u001b[38;5;28;01mNone\u001b[39;00m:\n\u001b[1;32m     33\u001b[0m     time\u001b[38;5;241m.\u001b[39msleep(\u001b[38;5;241m5\u001b[39m)\n\u001b[1;32m     34\u001b[0m result \u001b[38;5;241m=\u001b[39m async_job\u001b[38;5;241m.\u001b[39mresult()\n",
      "File \u001b[0;32m~/Desktop/Github/myqlm-interop/qat/interop/qiskit/providers.py:654\u001b[0m, in \u001b[0;36mQiskitJob.result\u001b[0;34m(self)\u001b[0m\n\u001b[1;32m    645\u001b[0m \u001b[38;5;124;03m\"\"\"\u001b[39;00m\n\u001b[1;32m    646\u001b[0m \u001b[38;5;124;03mReturns the result if available.\u001b[39;00m\n\u001b[1;32m    647\u001b[0m \n\u001b[0;32m   (...)\u001b[0m\n\u001b[1;32m    651\u001b[0m \u001b[38;5;124;03m    if the batch submitted contains several jobs\u001b[39;00m\n\u001b[1;32m    652\u001b[0m \u001b[38;5;124;03m\"\"\"\u001b[39;00m\n\u001b[1;32m    653\u001b[0m \u001b[38;5;28;01mif\u001b[39;00m \u001b[38;5;28mself\u001b[39m\u001b[38;5;241m.\u001b[39mstatus() \u001b[38;5;241m==\u001b[39m \u001b[38;5;124m'\u001b[39m\u001b[38;5;124mDONE\u001b[39m\u001b[38;5;124m'\u001b[39m:\n\u001b[0;32m--> 654\u001b[0m     results \u001b[38;5;241m=\u001b[39m \u001b[43mgenerate_qlm_list_results\u001b[49m\u001b[43m(\u001b[49m\u001b[38;5;28;43mself\u001b[39;49m\u001b[38;5;241;43m.\u001b[39;49m\u001b[43m_handler\u001b[49m\u001b[38;5;241;43m.\u001b[39;49m\u001b[43mresult\u001b[49m\u001b[43m(\u001b[49m\u001b[43m)\u001b[49m\u001b[43m)\u001b[49m\n\u001b[1;32m    655\u001b[0m     new_results \u001b[38;5;241m=\u001b[39m []\n\u001b[1;32m    656\u001b[0m     \u001b[38;5;28;01mfor\u001b[39;00m result \u001b[38;5;129;01min\u001b[39;00m results:\n",
      "File \u001b[0;32m~/Desktop/Github/myqlm-interop/qat/interop/qiskit/providers.py:171\u001b[0m, in \u001b[0;36mgenerate_qlm_list_results\u001b[0;34m(qiskit_result)\u001b[0m\n\u001b[1;32m    160\u001b[0m \u001b[38;5;28;01mdef\u001b[39;00m \u001b[38;5;21mgenerate_qlm_list_results\u001b[39m(qiskit_result):\n\u001b[1;32m    161\u001b[0m     \u001b[38;5;124;03m\"\"\"\u001b[39;00m\n\u001b[1;32m    162\u001b[0m \u001b[38;5;124;03m    Generates a QLM Result from a qiskit result.\u001b[39;00m\n\u001b[1;32m    163\u001b[0m \n\u001b[0;32m   (...)\u001b[0m\n\u001b[1;32m    168\u001b[0m \u001b[38;5;124;03m        A QLM Result object built from the data in qiskit_result\u001b[39;00m\n\u001b[1;32m    169\u001b[0m \u001b[38;5;124;03m    \"\"\"\u001b[39;00m\n\u001b[0;32m--> 171\u001b[0m     nbshots \u001b[38;5;241m=\u001b[39m \u001b[43mqiskit_result\u001b[49m\u001b[38;5;241;43m.\u001b[39;49m\u001b[43mmetadata\u001b[49m\u001b[43m[\u001b[49m\u001b[38;5;241;43m0\u001b[39;49m\u001b[43m]\u001b[49m[\u001b[38;5;124m'\u001b[39m\u001b[38;5;124mshots\u001b[39m\u001b[38;5;124m'\u001b[39m]\n\u001b[1;32m    172\u001b[0m     \u001b[38;5;28;01mtry\u001b[39;00m:\n\u001b[1;32m    173\u001b[0m         counts \u001b[38;5;241m=\u001b[39m [dist \u001b[38;5;28;01mfor\u001b[39;00m dist \u001b[38;5;129;01min\u001b[39;00m qiskit_result\u001b[38;5;241m.\u001b[39mquasi_dists]\n",
      "\u001b[0;31mKeyError\u001b[0m: 0"
     ]
    }
   ],
   "source": [
    "from qat.interop.qiskit import AsyncBackendToQPU\n",
    "from qiskit import Aer\n",
    "from qat.lang.AQASM import Program\n",
    "from qat.lang.AQASM.gates import *\n",
    "import time\n",
    "nbqubits = 2\n",
    "\n",
    "prog = Program()\n",
    "\n",
    "qreg = prog.qalloc(nbqubits)\n",
    "creg = prog.calloc(nbqubits)\n",
    "\n",
    "prog.apply(H, qreg[0])\n",
    "prog.apply(CNOT, qreg[0], qreg[1])\n",
    "\n",
    "prog.measure(qreg, creg)\n",
    "qlm_circuit = prog.to_circ()\n",
    "\n",
    "qlm_job = qlm_circuit.to_job(nbshots=1024)\n",
    "\n",
    "# Building a default AsyncBackendToQPU that's going to use qiskit's \"qasm_simulator\" if it couldn't connect\n",
    "# to IBMQ using a token\n",
    "qpu = AsyncBackendToQPU(backend)\n",
    "\n",
    "async_job = qpu.submit(qlm_job)\n",
    "\n",
    "print(\"ID: {}\\t status : {}\".format(async_job.job_id(), async_job.status()))\n",
    "time.sleep(0.01)\n",
    "print(\"ID: {}\\t status : {}\".format(async_job.job_id(), async_job.status()))\n",
    "time.sleep(0.2)\n",
    "print(\"ID: {}\\t status : {}\".format(async_job.job_id(), async_job.status()))\n",
    "while async_job.result() is None:\n",
    "    time.sleep(5)\n",
    "result = async_job.result()\n",
    "for entry in result.raw_data:\n",
    "    print(\"State: {}\\t probability: {}\".format(entry.state, entry.probability))\n"
   ]
  },
  {
   "cell_type": "code",
   "execution_count": null,
   "id": "7a39a161",
   "metadata": {},
   "outputs": [],
   "source": [
    "from qiskit import *\n",
    "from qat.interop.qiskit import qiskit_to_qlm\n",
    "from qiskit.circuit import Parameter\n",
    "\n",
    "# Qiskit to QLM\n",
    "qiskit_circuit = QuantumCircuit(2)\n",
    "theta = Parameter(\"theta\")\n",
    "gamma = 3.14 - 2 * theta\n",
    "qiskit_circuit.rx(theta, 0)\n",
    "qiskit_circuit.rx(gamma, 1)\n",
    "\n",
    "qlm_circuit = qiskit_to_qlm(qiskit_circuit)\n",
    "\n"
   ]
  },
  {
   "cell_type": "code",
   "execution_count": null,
   "id": "0d19d4cb",
   "metadata": {},
   "outputs": [],
   "source": [
    "from qiskit_ibm_runtime import QiskitRuntimeService\n",
    "service = QiskitRuntimeService(token=backend._api_client._credentials.token,\n",
    "                              channel='ibm_quantum')"
   ]
  },
  {
   "cell_type": "code",
   "execution_count": null,
   "id": "986614be",
   "metadata": {},
   "outputs": [],
   "source": []
  },
  {
   "cell_type": "code",
   "execution_count": null,
   "id": "98631953",
   "metadata": {},
   "outputs": [],
   "source": [
    "backend = service.backend('ibmq_qasm_simulator')"
   ]
  },
  {
   "cell_type": "code",
   "execution_count": null,
   "id": "e37fab0f",
   "metadata": {},
   "outputs": [],
   "source": [
    "backend._api_client.account_api.session.base_url"
   ]
  },
  {
   "cell_type": "code",
   "execution_count": null,
   "id": "e15de17f",
   "metadata": {},
   "outputs": [],
   "source": [
    "from qiskit import *\n",
    "IBMQ.load_account()"
   ]
  },
  {
   "cell_type": "code",
   "execution_count": null,
   "id": "d73fd33a",
   "metadata": {},
   "outputs": [],
   "source": [
    "provider = IBMQ.get_provider(project='internal-test')\n",
    "backend2 = provider.backend.ibmq_qasm_simulator\n",
    "backend2.name"
   ]
  },
  {
   "cell_type": "code",
   "execution_count": 6,
   "id": "6e1dbfc2",
   "metadata": {},
   "outputs": [
    {
     "ename": "NameError",
     "evalue": "name 'service' is not defined",
     "output_type": "error",
     "traceback": [
      "\u001b[0;31m---------------------------------------------------------------------------\u001b[0m",
      "\u001b[0;31mNameError\u001b[0m                                 Traceback (most recent call last)",
      "Input \u001b[0;32mIn [6]\u001b[0m, in \u001b[0;36m<cell line: 9>\u001b[0;34m()\u001b[0m\n\u001b[1;32m      4\u001b[0m program_inputs \u001b[38;5;241m=\u001b[39m {\n\u001b[1;32m      5\u001b[0m     \u001b[38;5;124m'\u001b[39m\u001b[38;5;124mcircuits\u001b[39m\u001b[38;5;124m'\u001b[39m: ReferenceCircuits\u001b[38;5;241m.\u001b[39mbell(),\n\u001b[1;32m      6\u001b[0m      \u001b[38;5;124m'\u001b[39m\u001b[38;5;124mcircuit_indices\u001b[39m\u001b[38;5;124m'\u001b[39m: [\u001b[38;5;241m0\u001b[39m],\n\u001b[1;32m      7\u001b[0m }\n\u001b[1;32m      8\u001b[0m options \u001b[38;5;241m=\u001b[39m {\u001b[38;5;124m'\u001b[39m\u001b[38;5;124mbackend_name\u001b[39m\u001b[38;5;124m'\u001b[39m: backend\u001b[38;5;241m.\u001b[39mname()}\n\u001b[0;32m----> 9\u001b[0m job \u001b[38;5;241m=\u001b[39m \u001b[43mservice\u001b[49m\u001b[38;5;241m.\u001b[39mrun(\n\u001b[1;32m     10\u001b[0m     program_id\u001b[38;5;241m=\u001b[39m\u001b[38;5;124m\"\u001b[39m\u001b[38;5;124msampler\u001b[39m\u001b[38;5;124m\"\u001b[39m,\n\u001b[1;32m     11\u001b[0m     options\u001b[38;5;241m=\u001b[39moptions,\n\u001b[1;32m     12\u001b[0m     inputs\u001b[38;5;241m=\u001b[39mprogram_inputs)\n\u001b[1;32m     13\u001b[0m \u001b[38;5;28mprint\u001b[39m(\u001b[38;5;124mf\u001b[39m\u001b[38;5;124m\"\u001b[39m\u001b[38;5;124mjob ID: \u001b[39m\u001b[38;5;132;01m{\u001b[39;00mjob\u001b[38;5;241m.\u001b[39mjob_id\u001b[38;5;132;01m}\u001b[39;00m\u001b[38;5;124m\"\u001b[39m)\n\u001b[1;32m     14\u001b[0m result \u001b[38;5;241m=\u001b[39m job\u001b[38;5;241m.\u001b[39mresult()\n",
      "\u001b[0;31mNameError\u001b[0m: name 'service' is not defined"
     ]
    }
   ],
   "source": [
    "from qiskit.test.reference_circuits import ReferenceCircuits\n",
    "from qiskit_ibm_runtime import QiskitRuntimeService\n",
    "\n",
    "program_inputs = {\n",
    "    'circuits': ReferenceCircuits.bell(),\n",
    "     'circuit_indices': [0],\n",
    "}\n",
    "options = {'backend_name': backend.name()}\n",
    "job = service.run(\n",
    "    program_id=\"sampler\",\n",
    "    options=options,\n",
    "    inputs=program_inputs)\n",
    "print(f\"job ID: {job.job_id}\")\n",
    "result = job.result()\n",
    "result"
   ]
  },
  {
   "cell_type": "code",
   "execution_count": null,
   "id": "d280f196",
   "metadata": {},
   "outputs": [],
   "source": [
    "backend = service.backends()[0]\n",
    "backend"
   ]
  },
  {
   "cell_type": "code",
   "execution_count": null,
   "id": "31e0173a",
   "metadata": {},
   "outputs": [],
   "source": []
  },
  {
   "cell_type": "code",
   "execution_count": 7,
   "id": "50130618",
   "metadata": {},
   "outputs": [
    {
     "ename": "NameError",
     "evalue": "name 'service' is not defined",
     "output_type": "error",
     "traceback": [
      "\u001b[0;31m---------------------------------------------------------------------------\u001b[0m",
      "\u001b[0;31mNameError\u001b[0m                                 Traceback (most recent call last)",
      "Input \u001b[0;32mIn [7]\u001b[0m, in \u001b[0;36m<cell line: 2>\u001b[0;34m()\u001b[0m\n\u001b[1;32m      1\u001b[0m \u001b[38;5;28;01mfrom\u001b[39;00m \u001b[38;5;21;01mqiskit_ibm_runtime\u001b[39;00m \u001b[38;5;28;01mimport\u001b[39;00m Sampler\n\u001b[0;32m----> 2\u001b[0m \u001b[38;5;28;01mwith\u001b[39;00m Sampler(circuits\u001b[38;5;241m=\u001b[39m[ReferenceCircuits\u001b[38;5;241m.\u001b[39mbell()]\u001b[38;5;241m*\u001b[39m\u001b[38;5;241m3\u001b[39m, service\u001b[38;5;241m=\u001b[39m\u001b[43mservice\u001b[49m, \n\u001b[1;32m      3\u001b[0m              options\u001b[38;5;241m=\u001b[39m{ \u001b[38;5;124m\"\u001b[39m\u001b[38;5;124mbackend\u001b[39m\u001b[38;5;124m\"\u001b[39m: backend\u001b[38;5;241m.\u001b[39mname}) \u001b[38;5;28;01mas\u001b[39;00m sampler:\n\u001b[1;32m      4\u001b[0m     result \u001b[38;5;241m=\u001b[39m sampler(circuit_indices\u001b[38;5;241m=\u001b[39m[\u001b[38;5;241m0\u001b[39m, \u001b[38;5;241m1\u001b[39m, \u001b[38;5;241m2\u001b[39m], transpile_config\u001b[38;5;241m=\u001b[39m{\u001b[38;5;124m'\u001b[39m\u001b[38;5;124moptimization_level\u001b[39m\u001b[38;5;124m'\u001b[39m: \u001b[38;5;241m3\u001b[39m}, shots\u001b[38;5;241m=\u001b[39m\u001b[38;5;241m1000\u001b[39m)\n\u001b[1;32m      5\u001b[0m     \u001b[38;5;28mprint\u001b[39m(result)\n",
      "\u001b[0;31mNameError\u001b[0m: name 'service' is not defined"
     ]
    }
   ],
   "source": [
    "from qiskit_ibm_runtime import Sampler\n",
    "with Sampler(circuits=[ReferenceCircuits.bell()]*3, service=service, \n",
    "             options={ \"backend\": backend.name}) as sampler:\n",
    "    result = sampler(circuit_indices=[0, 1, 2], transpile_config={'optimization_level': 3}, shots=1000)\n",
    "    print(result)"
   ]
  },
  {
   "cell_type": "code",
   "execution_count": null,
   "id": "6b98643f",
   "metadata": {},
   "outputs": [],
   "source": [
    "from qiskit.providers.ibmq import IBMQBackend\n",
    "from qiskit_ibm_runtime import IBMBackend as RuntimeBackend"
   ]
  },
  {
   "cell_type": "code",
   "execution_count": null,
   "id": "92b696ac",
   "metadata": {},
   "outputs": [],
   "source": [
    "result"
   ]
  },
  {
   "cell_type": "code",
   "execution_count": null,
   "id": "9d97ba09",
   "metadata": {},
   "outputs": [],
   "source": [
    "result.quasi_dists"
   ]
  },
  {
   "cell_type": "code",
   "execution_count": null,
   "id": "f13def65",
   "metadata": {},
   "outputs": [],
   "source": [
    "result.metadata[0]['shots']"
   ]
  },
  {
   "cell_type": "code",
   "execution_count": null,
   "id": "89f7062e",
   "metadata": {},
   "outputs": [],
   "source": []
  }
 ],
 "metadata": {
  "kernelspec": {
   "display_name": "Python 3 (ipykernel)",
   "language": "python",
   "name": "python3"
  },
  "language_info": {
   "codemirror_mode": {
    "name": "ipython",
    "version": 3
   },
   "file_extension": ".py",
   "mimetype": "text/x-python",
   "name": "python",
   "nbconvert_exporter": "python",
   "pygments_lexer": "ipython3",
   "version": "3.9.12"
  }
 },
 "nbformat": 4,
 "nbformat_minor": 5
}
