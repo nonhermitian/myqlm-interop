{
 "cells": [
  {
   "cell_type": "markdown",
   "id": "cb65371e",
   "metadata": {},
   "source": [
    "# Integration of Atos with Qiskit Runtime Sampler"
   ]
  },
  {
   "cell_type": "code",
   "execution_count": 1,
   "id": "c38d9334",
   "metadata": {},
   "outputs": [],
   "source": [
    "import time\n",
    "from qat.interop.qiskit import qlm_to_qiskit\n",
    "from qat.lang.AQASM import Program\n",
    "from qat.lang.AQASM.gates import *\n",
    "\n",
    "from qat.interop.qiskit import BackendToQPU\n",
    "from qat.interop.qiskit import AsyncBackendToQPU\n",
    "from qiskit import *"
   ]
  },
  {
   "cell_type": "code",
   "execution_count": 2,
   "id": "3834c5cf",
   "metadata": {},
   "outputs": [
    {
     "data": {
      "text/plain": [
       "<AccountProvider for IBMQ(hub='ibm-q', group='open', project='main')>"
      ]
     },
     "execution_count": 2,
     "metadata": {},
     "output_type": "execute_result"
    }
   ],
   "source": [
    "IBMQ.load_account()"
   ]
  },
  {
   "cell_type": "code",
   "execution_count": 3,
   "id": "533e4e33",
   "metadata": {},
   "outputs": [],
   "source": [
    "provider = IBMQ.get_provider(group='open')"
   ]
  },
  {
   "cell_type": "markdown",
   "id": "56abd3ee",
   "metadata": {},
   "source": [
    "## Define circuit"
   ]
  },
  {
   "cell_type": "code",
   "execution_count": 4,
   "id": "0b34bb08",
   "metadata": {},
   "outputs": [
    {
     "name": "stdout",
     "output_type": "stream",
     "text": [
      "      ┌───┐                     ┌─┐   \n",
      "q0_0: ┤ H ├──■────■───────■─────┤M├───\n",
      "      └───┘┌─┴─┐  │  ┌─┐  │     └╥┘   \n",
      "q0_1: ─────┤ X ├──┼──┤M├──┼──────╫────\n",
      "           └───┘┌─┴─┐└╥┘  │  ┌─┐ ║    \n",
      "q0_2: ──────────┤ X ├─╫───┼──┤M├─╫────\n",
      "                └───┘ ║ ┌─┴─┐└╥┘ ║ ┌─┐\n",
      "q0_3: ────────────────╫─┤ X ├─╫──╫─┤M├\n",
      "       ┌─┐            ║ └───┘ ║  ║ └╥┘\n",
      "q0_4: ─┤M├────────────╫───────╫──╫──╫─\n",
      "       └╥┘            ║       ║  ║  ║ \n",
      "c0: 5/══╩═════════════╩═══════╩══╩══╩═\n",
      "        4             1       2  0  3 \n"
     ]
    }
   ],
   "source": [
    "nbqubits = 5\n",
    "\n",
    "prog = Program()\n",
    "\n",
    "qreg = prog.qalloc(nbqubits)\n",
    "creg = prog.calloc(nbqubits)\n",
    "\n",
    "prog.apply(H, qreg[0])\n",
    "prog.apply(CNOT, qreg[0], qreg[1])\n",
    "prog.apply(CNOT, qreg[0], qreg[2])\n",
    "prog.apply(CNOT, qreg[0], qreg[3])\n",
    "#prog.apply(CNOT, qreg[0], qreg[4])\n",
    "\n",
    "prog.measure(qreg, creg)\n",
    "qlm_circuit = prog.to_circ()\n",
    "\n",
    "# Conversion\n",
    "qiskit_circuit = qlm_to_qiskit(qlm_circuit)\n",
    "print(qiskit_circuit)"
   ]
  },
  {
   "cell_type": "markdown",
   "id": "75d25f45",
   "metadata": {},
   "source": [
    "## Blocking call to Runtime"
   ]
  },
  {
   "cell_type": "code",
   "execution_count": 5,
   "id": "22653d82",
   "metadata": {},
   "outputs": [
    {
     "name": "stdout",
     "output_type": "stream",
     "text": [
      "State: |01111>\t probability: 0.49609375\n",
      "State: |00000>\t probability: 0.50390625\n"
     ]
    }
   ],
   "source": [
    "qlm_job = qlm_circuit.to_job(nbshots=1024)\n",
    "\n",
    "# Runtime using ibmq_qasm_simulator\n",
    "backend = provider.get_backend('ibmq_qasm_simulator')\n",
    "qpu = BackendToQPU(backend)\n",
    "\n",
    "# Execute via Qiskit Runtime\n",
    "result = qpu.submit(qlm_job)\n",
    "for entry in result.raw_data:\n",
    "    print(\"State: {}\\t probability: {}\".format(entry.state, entry.probability))"
   ]
  },
  {
   "cell_type": "markdown",
   "id": "ea360b71",
   "metadata": {},
   "source": [
    "## Async call to Runtime"
   ]
  },
  {
   "cell_type": "code",
   "execution_count": 6,
   "id": "112dc6f2",
   "metadata": {
    "scrolled": true
   },
   "outputs": [
    {
     "name": "stdout",
     "output_type": "stream",
     "text": [
      "State: |01111>\t probability: 0.4853515625\n",
      "State: |00000>\t probability: 0.5146484375\n"
     ]
    }
   ],
   "source": [
    "# Make Async QPU\n",
    "async_qpu = AsyncBackendToQPU(backend)\n",
    "\n",
    "# Async execution\n",
    "async_result = async_qpu.submit(qlm_job)\n",
    "\n",
    "# Wait for the result\n",
    "while not async_result.result():\n",
    "    time.sleep(1)\n",
    "\n",
    "# Get result\n",
    "result = async_result.result()\n",
    "for entry in result.raw_data:\n",
    "    print(\"State: {}\\t probability: {}\".format(entry.state, entry.probability))"
   ]
  },
  {
   "cell_type": "code",
   "execution_count": null,
   "id": "99afce49",
   "metadata": {},
   "outputs": [],
   "source": []
  }
 ],
 "metadata": {
  "kernelspec": {
   "display_name": "Python 3 (ipykernel)",
   "language": "python",
   "name": "python3"
  },
  "language_info": {
   "codemirror_mode": {
    "name": "ipython",
    "version": 3
   },
   "file_extension": ".py",
   "mimetype": "text/x-python",
   "name": "python",
   "nbconvert_exporter": "python",
   "pygments_lexer": "ipython3",
   "version": "3.9.12"
  }
 },
 "nbformat": 4,
 "nbformat_minor": 5
}
