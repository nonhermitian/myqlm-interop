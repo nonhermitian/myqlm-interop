{
 "cells": [
  {
   "cell_type": "markdown",
   "id": "00bf0a32",
   "metadata": {},
   "source": [
    "# Integration of Atos with Qiskit Runtime Sampler"
   ]
  },
  {
   "cell_type": "code",
   "execution_count": 1,
   "id": "c38d9334",
   "metadata": {},
   "outputs": [],
   "source": [
    "import time\n",
    "from qat.interop.qiskit import qlm_to_qiskit\n",
    "from qat.lang.AQASM import Program\n",
    "from qat.core.wrappers import Batch\n",
    "from qat.lang.AQASM.gates import *\n",
    "\n",
    "from qat.interop.qiskit import BackendToQPU\n",
    "from qat.interop.qiskit import AsyncBackendToQPU\n",
    "from qiskit import *"
   ]
  },
  {
   "cell_type": "code",
   "execution_count": 2,
   "id": "3834c5cf",
   "metadata": {},
   "outputs": [
    {
     "data": {
      "text/plain": [
       "<AccountProvider for IBMQ(hub='ibm-q', group='open', project='main')>"
      ]
     },
     "execution_count": 2,
     "metadata": {},
     "output_type": "execute_result"
    }
   ],
   "source": [
    "IBMQ.load_account()"
   ]
  },
  {
   "cell_type": "code",
   "execution_count": 3,
   "id": "533e4e33",
   "metadata": {},
   "outputs": [],
   "source": [
    "provider = IBMQ.get_provider(group='open')"
   ]
  },
  {
   "cell_type": "code",
   "execution_count": 14,
   "id": "bd58eb19",
   "metadata": {},
   "outputs": [],
   "source": [
    "backend = provider.get_backend('ibmq_qasm_simulator')\n",
    "#backend = Aer.get_backend('aer_simulator')"
   ]
  },
  {
   "cell_type": "markdown",
   "id": "a9e35bc3",
   "metadata": {},
   "source": [
    "## Define circuit"
   ]
  },
  {
   "cell_type": "code",
   "execution_count": 15,
   "id": "0b34bb08",
   "metadata": {},
   "outputs": [
    {
     "name": "stdout",
     "output_type": "stream",
     "text": [
      "       ┌───┐                     ┌─┐   \n",
      "q45_0: ┤ H ├──■────■───────■─────┤M├───\n",
      "       └───┘┌─┴─┐  │  ┌─┐  │     └╥┘   \n",
      "q45_1: ─────┤ X ├──┼──┤M├──┼──────╫────\n",
      "            └───┘┌─┴─┐└╥┘  │  ┌─┐ ║    \n",
      "q45_2: ──────────┤ X ├─╫───┼──┤M├─╫────\n",
      "                 └───┘ ║ ┌─┴─┐└╥┘ ║ ┌─┐\n",
      "q45_3: ────────────────╫─┤ X ├─╫──╫─┤M├\n",
      "        ┌─┐            ║ └───┘ ║  ║ └╥┘\n",
      "q45_4: ─┤M├────────────╫───────╫──╫──╫─\n",
      "        └╥┘            ║       ║  ║  ║ \n",
      " c9: 5/══╩═════════════╩═══════╩══╩══╩═\n",
      "         4             1       2  0  3 \n"
     ]
    }
   ],
   "source": [
    "nbqubits = 5\n",
    "\n",
    "prog = Program()\n",
    "\n",
    "qreg = prog.qalloc(nbqubits)\n",
    "creg = prog.calloc(nbqubits)\n",
    "\n",
    "prog.apply(H, qreg[0])\n",
    "prog.apply(CNOT, qreg[0], qreg[1])\n",
    "prog.apply(CNOT, qreg[0], qreg[2])\n",
    "prog.apply(CNOT, qreg[0], qreg[3])\n",
    "#prog.apply(CNOT, qreg[0], qreg[4])\n",
    "\n",
    "prog.measure(qreg, creg)\n",
    "qlm_circuit = prog.to_circ()\n",
    "\n",
    "# Conversion\n",
    "qiskit_circuit = qlm_to_qiskit(qlm_circuit)\n",
    "print(qiskit_circuit)"
   ]
  },
  {
   "cell_type": "markdown",
   "id": "8f85658d",
   "metadata": {},
   "source": [
    "## Blocking call to Runtime"
   ]
  },
  {
   "cell_type": "code",
   "execution_count": 16,
   "id": "22653d82",
   "metadata": {
    "scrolled": true
   },
   "outputs": [
    {
     "name": "stdout",
     "output_type": "stream",
     "text": [
      "State: |01111>\t probability: 0.4853515625\n",
      "State: |00000>\t probability: 0.5146484375\n"
     ]
    }
   ],
   "source": [
    "qlm_job = qlm_circuit.to_job(nbshots=1024)\n",
    "\n",
    "qpu = BackendToQPU(backend)\n",
    "\n",
    "# Execute via Qiskit Runtime\n",
    "result = qpu.submit(qlm_job)\n",
    "for entry in result.raw_data:\n",
    "    print(\"State: {}\\t probability: {}\".format(entry.state, entry.probability))"
   ]
  },
  {
   "cell_type": "markdown",
   "id": "189e9d9a",
   "metadata": {},
   "source": [
    "## Async call to Runtime"
   ]
  },
  {
   "cell_type": "code",
   "execution_count": 17,
   "id": "18eaefd2",
   "metadata": {
    "scrolled": true
   },
   "outputs": [
    {
     "name": "stdout",
     "output_type": "stream",
     "text": [
      "State: |00000>\t probability: 0.5068359375\n",
      "State: |01111>\t probability: 0.4931640625\n"
     ]
    }
   ],
   "source": [
    "# Make Async QPU\n",
    "async_qpu = AsyncBackendToQPU(backend)\n",
    "\n",
    "# Async execution\n",
    "async_result = async_qpu.submit(qlm_job)\n",
    "\n",
    "# Wait for the result\n",
    "while not async_result.result():\n",
    "    time.sleep(1)\n",
    "\n",
    "# Get result\n",
    "result = async_result.result()\n",
    "for entry in result.raw_data:\n",
    "    print(\"State: {}\\t probability: {}\".format(entry.state, entry.probability))"
   ]
  },
  {
   "cell_type": "markdown",
   "id": "a2c15e78",
   "metadata": {},
   "source": [
    "## Batch test"
   ]
  },
  {
   "cell_type": "code",
   "execution_count": 18,
   "id": "bda639d4",
   "metadata": {},
   "outputs": [],
   "source": [
    "nbqubits = 2\n",
    "prog = Program()\n",
    "\n",
    "qreg = prog.qalloc(nbqubits)\n",
    "creg = prog.calloc(nbqubits)\n",
    "\n",
    "prog.apply(H, qreg[0])\n",
    "prog.apply(CNOT, qreg[0], qreg[1])\n",
    "\n",
    "prog.measure(qreg, creg)\n",
    "qlm_circuit = prog.to_circ()\n",
    "\n",
    "qlm_job1 = qlm_circuit.to_job(nbshots=1024)\n",
    "qlm_job2 = qlm_circuit.to_job(nbshots=1024)\n",
    "batch = Batch(jobs=[qlm_job1, qlm_job2])\n",
    "\n",
    "results = qpu.submit(batch)"
   ]
  },
  {
   "cell_type": "code",
   "execution_count": 19,
   "id": "957d27db",
   "metadata": {},
   "outputs": [
    {
     "name": "stdout",
     "output_type": "stream",
     "text": [
      "State: |00>\t probability: 0.5078125\n",
      "State: |11>\t probability: 0.4921875\n",
      "\n",
      "State: |11>\t probability: 0.5107421875\n",
      "State: |00>\t probability: 0.4892578125\n",
      "\n"
     ]
    }
   ],
   "source": [
    "for res in results:\n",
    "    for entry in res.raw_data:\n",
    "        print(\"State: {}\\t probability: {}\".format(entry.state, entry.probability))\n",
    "    print()"
   ]
  },
  {
   "cell_type": "markdown",
   "id": "ffc73e99",
   "metadata": {},
   "source": [
    "## Async even superposition test"
   ]
  },
  {
   "cell_type": "code",
   "execution_count": 20,
   "id": "f528353c",
   "metadata": {},
   "outputs": [
    {
     "name": "stdout",
     "output_type": "stream",
     "text": [
      "State: |11>\t probability: 0.244140625\n",
      "State: |00>\t probability: 0.259765625\n",
      "State: |10>\t probability: 0.2431640625\n",
      "State: |01>\t probability: 0.2529296875\n"
     ]
    }
   ],
   "source": [
    "nbqubits = 2\n",
    "\n",
    "prog = Program()\n",
    "\n",
    "qreg = prog.qalloc(nbqubits)\n",
    "creg = prog.calloc(nbqubits)\n",
    "\n",
    "prog.apply(H, qreg[0])\n",
    "prog.apply(H, qreg[1])\n",
    "\n",
    "prog.measure(qreg, creg)\n",
    "qlm_circuit = prog.to_circ()\n",
    "\n",
    "qlm_job = qlm_circuit.to_job(nbshots=1024)\n",
    "\n",
    "async_job = async_qpu.submit_job(qlm_job)\n",
    "\n",
    "loop_nb = 0\n",
    "while async_job.result() is None:\n",
    "    time.sleep(5)\n",
    "    loop_nb += 1\n",
    "    if loop_nb > 4:\n",
    "        break\n",
    "\n",
    "result = async_job.result()\n",
    "\n",
    "for entry in result.raw_data:\n",
    "    print(\"State: {}\\t probability: {}\".format(entry.state, entry.probability))"
   ]
  },
  {
   "cell_type": "markdown",
   "id": "9e5dafc5",
   "metadata": {},
   "source": [
    "## Async batch"
   ]
  },
  {
   "cell_type": "code",
   "execution_count": 21,
   "id": "0951a66c",
   "metadata": {},
   "outputs": [
    {
     "name": "stdout",
     "output_type": "stream",
     "text": [
      "State: |00>\t probability: 0.498046875\n",
      "State: |11>\t probability: 0.501953125\n"
     ]
    }
   ],
   "source": [
    "nbqubits = 2\n",
    "\n",
    "prog = Program()\n",
    "\n",
    "qreg = prog.qalloc(nbqubits)\n",
    "creg = prog.calloc(nbqubits)\n",
    "\n",
    "prog.apply(H, qreg[0])\n",
    "prog.apply(CNOT, qreg[0], qreg[1])\n",
    "\n",
    "prog.measure(qreg, creg)\n",
    "qlm_circuit = prog.to_circ()\n",
    "\n",
    "qlm_job1 = qlm_circuit.to_job(nbshots=1024)\n",
    "qlm_job2 = qlm_circuit.to_job(nbshots=1024)\n",
    "batch = Batch(jobs=[qlm_job1, qlm_job2])\n",
    "\n",
    "# a backend is specified\n",
    "qpu = AsyncBackendToQPU(backend)\n",
    "\n",
    "job = qpu.submit(batch)\n",
    "\n",
    "while job.result() is None:\n",
    "    time.sleep(5)\n",
    "\n",
    "results = job.result()\n",
    "\n",
    "\n",
    "for result in results:\n",
    "    print(\"State: {}\\t probability: {}\".format(result.state, result.probability))"
   ]
  },
  {
   "cell_type": "code",
   "execution_count": null,
   "id": "02493b83",
   "metadata": {},
   "outputs": [],
   "source": []
  }
 ],
 "metadata": {
  "kernelspec": {
   "display_name": "Python 3 (ipykernel)",
   "language": "python",
   "name": "python3"
  },
  "language_info": {
   "codemirror_mode": {
    "name": "ipython",
    "version": 3
   },
   "file_extension": ".py",
   "mimetype": "text/x-python",
   "name": "python",
   "nbconvert_exporter": "python",
   "pygments_lexer": "ipython3",
   "version": "3.9.12"
  }
 },
 "nbformat": 4,
 "nbformat_minor": 5
}
